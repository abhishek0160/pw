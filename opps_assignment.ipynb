{
 "cells": [
  {
   "cell_type": "markdown",
   "id": "64d483ff",
   "metadata": {},
   "source": [
    "Q1, Create a vehicle class with an init method having instance variables as name_of_vehicle, max_speed\n",
    "and average_of_vehicle."
   ]
  },
  {
   "cell_type": "code",
   "execution_count": 2,
   "id": "9b25d096",
   "metadata": {},
   "outputs": [],
   "source": [
    "class vehical:\n",
    "    def __init__(self, name_of_vehicle, max_speed, average_of_vehicle):\n",
    "        self.name_of_vehicle = name_of_vehicle\n",
    "        self.max_speed = max_speed\n",
    "        self.average_of_vehicale = average_of_vehicle"
   ]
  },
  {
   "cell_type": "markdown",
   "id": "1cfb27ef",
   "metadata": {},
   "source": [
    "Q2. Create a child class car from the vehicle class created in Que 1, which will inherit the vehicle class.\n",
    "Create a method named seating_capacity which takes capacity as an argument and returns the name of\n",
    "the vehicle and its seating capacity."
   ]
  },
  {
   "cell_type": "code",
   "execution_count": 3,
   "id": "0ab376b9",
   "metadata": {},
   "outputs": [],
   "source": [
    "class car(vehical):\n",
    "    def seating_capacity(self, value):\n",
    "        return f\"The seating capacity of {self.name_of_vehicle} is {value} passengers.\""
   ]
  },
  {
   "cell_type": "code",
   "execution_count": 4,
   "id": "cfd2edbc",
   "metadata": {},
   "outputs": [
    {
     "data": {
      "text/plain": [
       "'The seating capacity of Toyata is 7 passengers.'"
      ]
     },
     "execution_count": 4,
     "metadata": {},
     "output_type": "execute_result"
    }
   ],
   "source": [
    "obj_car = car(\"Toyata\", 200, 80)\n",
    "\n",
    "obj_car.seating_capacity(7)"
   ]
  },
  {
   "cell_type": "markdown",
   "id": "7f6b60b1",
   "metadata": {},
   "source": [
    "Q3. What is multiple inheritance? Write a python code to demonstrate multiple inheritance."
   ]
  },
  {
   "cell_type": "markdown",
   "id": "9136c545",
   "metadata": {},
   "source": [
    "Multiple Inheritance is a feature in object-oriented programming where a class can inherit attributes and methods from more than one parent class"
   ]
  },
  {
   "cell_type": "code",
   "execution_count": 5,
   "id": "ffed25e4",
   "metadata": {},
   "outputs": [],
   "source": [
    "class class1:\n",
    "    def test1(self):\n",
    "        return \"This is my book\""
   ]
  },
  {
   "cell_type": "code",
   "execution_count": 6,
   "id": "29c5bc01",
   "metadata": {},
   "outputs": [],
   "source": [
    "class class2(class1):\n",
    "    def test2(self):\n",
    "        return \"This is a pen\""
   ]
  },
  {
   "cell_type": "code",
   "execution_count": 7,
   "id": "2c145adf",
   "metadata": {},
   "outputs": [],
   "source": [
    "class class3(class2):\n",
    "    pass"
   ]
  },
  {
   "cell_type": "code",
   "execution_count": 8,
   "id": "ee55ac57",
   "metadata": {},
   "outputs": [
    {
     "data": {
      "text/plain": [
       "'This is a pen'"
      ]
     },
     "execution_count": 8,
     "metadata": {},
     "output_type": "execute_result"
    }
   ],
   "source": [
    "obj_class3 = class3()\n",
    "obj_class3.test2()\n"
   ]
  },
  {
   "cell_type": "markdown",
   "id": "25d3e1b5",
   "metadata": {},
   "source": [
    "Q4. What are getter and setter in python? Create a class and create a getter and a setter method in this\n",
    "class."
   ]
  },
  {
   "cell_type": "markdown",
   "id": "ca6777b2",
   "metadata": {},
   "source": [
    "Getters and Setters in Python are methods used to access and modify the values of private attributes in a class.\n",
    "\n",
    "Getter: Used to get the value of a private attribute.\n",
    "\n",
    "Setter: Used to set or update the value of a private attribute."
   ]
  },
  {
   "cell_type": "code",
   "execution_count": 11,
   "id": "567e8b77",
   "metadata": {},
   "outputs": [],
   "source": [
    "class Student:\n",
    "    def __init__(self, name, marks):\n",
    "        self._name = name      \n",
    "        self._marks = marks      \n",
    "\n",
    "    @property\n",
    "    def marks(self):\n",
    "        return self._marks\n",
    "\n",
    "\n",
    "    @marks.setter\n",
    "    def marks(self, value):\n",
    "        if 0 <= value <= 100:\n",
    "            self._marks = value\n",
    "        else:\n",
    "            print(\"Invalid marks! Must be between 0 and 100.\")\n",
    "\n",
    "\n",
    "    def display(self):\n",
    "        print(f\"Name: {self._name}, Marks: {self._marks}\")\n",
    "\n"
   ]
  },
  {
   "cell_type": "code",
   "execution_count": 12,
   "id": "c2e642b7",
   "metadata": {},
   "outputs": [
    {
     "name": "stdout",
     "output_type": "stream",
     "text": [
      "Initial Marks: 85\n",
      "Updated Marks: 95\n",
      "Invalid marks! Must be between 0 and 100.\n",
      "Name: Abhishek, Marks: 95\n"
     ]
    }
   ],
   "source": [
    "\n",
    "s = Student(\"Abhishek\", 85)\n",
    "\n",
    "print(\"Initial Marks:\", s.marks)\n",
    "\n",
    "s.marks = 95\n",
    "print(\"Updated Marks:\", s.marks)\n",
    "\n",
    "s.marks = 120  \n",
    "s.display()\n"
   ]
  },
  {
   "cell_type": "markdown",
   "id": "69811bfd",
   "metadata": {},
   "source": [
    "Q5.What is method overriding in python? Write a python code to demonstrate method overriding."
   ]
  },
  {
   "cell_type": "markdown",
   "id": "e9e4dbb5",
   "metadata": {},
   "source": [
    "Method Overriding in Python occurs when a child class provides a specific implementation of a method that is already defined in its parent class. This allows the subclass to customize or extend the behavior of the inherited method.\n",
    "\n"
   ]
  },
  {
   "cell_type": "code",
   "execution_count": 15,
   "id": "45caced8",
   "metadata": {},
   "outputs": [],
   "source": [
    "class Animal:\n",
    "    def speak(self):\n",
    "        print(\"The animal makes a sound\")\n",
    "\n",
    "class Dog(Animal):\n",
    "\n",
    "    def speak(self):\n",
    "        print(\"The dog barks\")\n",
    "\n",
    "class Cat(Animal):\n",
    "    def speak(self):\n",
    "        print(\"The cat meows\")"
   ]
  },
  {
   "cell_type": "code",
   "execution_count": 17,
   "id": "29d0d777",
   "metadata": {},
   "outputs": [
    {
     "name": "stdout",
     "output_type": "stream",
     "text": [
      "The animal makes a sound\n",
      "The dog barks\n",
      "The cat meows\n"
     ]
    }
   ],
   "source": [
    "a = Animal()\n",
    "d = Dog()\n",
    "c = Cat()\n",
    "\n",
    "\n",
    "a.speak()  \n",
    "d.speak()  \n",
    "c.speak()  \n"
   ]
  },
  {
   "cell_type": "code",
   "execution_count": null,
   "id": "3a0fd22d",
   "metadata": {},
   "outputs": [],
   "source": []
  }
 ],
 "metadata": {
  "kernelspec": {
   "display_name": "Python 3",
   "language": "python",
   "name": "python3"
  },
  "language_info": {
   "codemirror_mode": {
    "name": "ipython",
    "version": 3
   },
   "file_extension": ".py",
   "mimetype": "text/x-python",
   "name": "python",
   "nbconvert_exporter": "python",
   "pygments_lexer": "ipython3",
   "version": "3.11.3"
  }
 },
 "nbformat": 4,
 "nbformat_minor": 5
}
